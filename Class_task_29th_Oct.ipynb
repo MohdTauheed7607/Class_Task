{
 "cells": [
  {
   "cell_type": "code",
   "execution_count": 1,
   "id": "aa872276",
   "metadata": {},
   "outputs": [],
   "source": [
    "# solution 1\n",
    "\n",
    "def Len(a):\n",
    "    length=0\n",
    "    for i in a:\n",
    "        length+=1\n",
    "    return length"
   ]
  },
  {
   "cell_type": "code",
   "execution_count": 5,
   "id": "87d54414",
   "metadata": {},
   "outputs": [],
   "source": [
    "# solution 2\n",
    "\n",
    "def index(List,Element):\n",
    "    for i in range(len(List)):\n",
    "        if List[i]==Element:\n",
    "            Index=i\n",
    "            return Index\n",
    "            break\n",
    "        elif Element not in List:\n",
    "                print(\"Element is not present inside the list\")\n",
    "                break"
   ]
  },
  {
   "cell_type": "code",
   "execution_count": 20,
   "id": "fda113fd",
   "metadata": {},
   "outputs": [],
   "source": [
    "# solution 3\n",
    "\n",
    "def IP_address():\n",
    "    import socket\n",
    "    host=socket.gethostname()\n",
    "    IPadd=socket.gethostbyname(host)\n",
    "    return IPadd"
   ]
  },
  {
   "cell_type": "code",
   "execution_count": 23,
   "id": "c1af4f6a",
   "metadata": {},
   "outputs": [],
   "source": [
    "# solution 4\n",
    "\n",
    "def power_button(command):\n",
    "    import os\n",
    "    if command==\"shutdown\":\n",
    "        os.system(\"shutdown / s /t 1\")\n",
    "    \n",
    "    elif command==\"restart\":\n",
    "        os.system(\"shutdown / r /t 1\")\n",
    "    \n",
    "    elif command=='logout':\n",
    "        os.system(\"shutdown -l\")"
   ]
  },
  {
   "cell_type": "code",
   "execution_count": 24,
   "id": "337a33ee",
   "metadata": {},
   "outputs": [],
   "source": [
    "# solution 5\n",
    "\n",
    "def Mul(List):\n",
    "    result=1\n",
    "    for i in List:\n",
    "        if type(i)==int or type(i)==float:\n",
    "            result*=i\n",
    "    return result"
   ]
  },
  {
   "cell_type": "code",
   "execution_count": null,
   "id": "2777e322",
   "metadata": {},
   "outputs": [],
   "source": []
  },
  {
   "cell_type": "code",
   "execution_count": null,
   "id": "984aca47",
   "metadata": {},
   "outputs": [],
   "source": []
  }
 ],
 "metadata": {
  "kernelspec": {
   "display_name": "Python 3 (ipykernel)",
   "language": "python",
   "name": "python3"
  },
  "language_info": {
   "codemirror_mode": {
    "name": "ipython",
    "version": 3
   },
   "file_extension": ".py",
   "mimetype": "text/x-python",
   "name": "python",
   "nbconvert_exporter": "python",
   "pygments_lexer": "ipython3",
   "version": "3.9.7"
  }
 },
 "nbformat": 4,
 "nbformat_minor": 5
}
